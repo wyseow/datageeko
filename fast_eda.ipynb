{
 "cells": [
  {
   "cell_type": "markdown",
   "metadata": {},
   "source": [
    "## Perform Exploratory data analysis(EDA) efficiently using smart tools"
   ]
  },
  {
   "cell_type": "markdown",
   "metadata": {},
   "source": [
    "When we do EDA, we would perform these routine steps:\n",
    "\n",
    "1) check the distribution for each variables\n",
    "\n",
    "2) check the association between the variables \n",
    "\n",
    "3) check the association between all variables and target variable for modelling purposes\n",
    "\n",
    "4) check missing values\n",
    "\n",
    "5) check for outliers\n",
    "\n",
    "and other nitty gritty analysis\n",
    "\n",
    "All that takes up a lot of time(easily a few hours creating those plots, properly encoding these variables so that they can be interpreted correctly), and after you have done all that, you would be <b>too mentally drained to start the real work</b>\n",
    "\n",
    "Therefore, it would be more producible to skip these menial stuff and jump directly to looking at what moves the needle. One good way is to make sure of a library like SweetViz which can automatically replace a huge part of the EDA steps for you."
   ]
  },
  {
   "cell_type": "code",
   "execution_count": 2,
   "metadata": {},
   "outputs": [],
   "source": [
    "import pandas as pd\n",
    "import numpy as np"
   ]
  },
  {
   "cell_type": "code",
   "execution_count": 3,
   "metadata": {},
   "outputs": [],
   "source": [
    "#use the famous dataset\n",
    "df = pd.read_csv('titanic/train.csv')"
   ]
  },
  {
   "cell_type": "code",
   "execution_count": 4,
   "metadata": {},
   "outputs": [
    {
     "data": {
      "text/plain": [
       "(891, 12)"
      ]
     },
     "execution_count": 4,
     "metadata": {},
     "output_type": "execute_result"
    }
   ],
   "source": [
    "df.shape"
   ]
  },
  {
   "cell_type": "code",
   "execution_count": 5,
   "metadata": {},
   "outputs": [
    {
     "data": {
      "text/html": [
       "<div>\n",
       "<style scoped>\n",
       "    .dataframe tbody tr th:only-of-type {\n",
       "        vertical-align: middle;\n",
       "    }\n",
       "\n",
       "    .dataframe tbody tr th {\n",
       "        vertical-align: top;\n",
       "    }\n",
       "\n",
       "    .dataframe thead th {\n",
       "        text-align: right;\n",
       "    }\n",
       "</style>\n",
       "<table border=\"1\" class=\"dataframe\">\n",
       "  <thead>\n",
       "    <tr style=\"text-align: right;\">\n",
       "      <th></th>\n",
       "      <th>PassengerId</th>\n",
       "      <th>Survived</th>\n",
       "      <th>Pclass</th>\n",
       "      <th>Name</th>\n",
       "      <th>Sex</th>\n",
       "      <th>Age</th>\n",
       "      <th>SibSp</th>\n",
       "      <th>Parch</th>\n",
       "      <th>Ticket</th>\n",
       "      <th>Fare</th>\n",
       "      <th>Cabin</th>\n",
       "      <th>Embarked</th>\n",
       "    </tr>\n",
       "  </thead>\n",
       "  <tbody>\n",
       "    <tr>\n",
       "      <th>0</th>\n",
       "      <td>1</td>\n",
       "      <td>0</td>\n",
       "      <td>3</td>\n",
       "      <td>Braund, Mr. Owen Harris</td>\n",
       "      <td>male</td>\n",
       "      <td>22.0</td>\n",
       "      <td>1</td>\n",
       "      <td>0</td>\n",
       "      <td>A/5 21171</td>\n",
       "      <td>7.2500</td>\n",
       "      <td>NaN</td>\n",
       "      <td>S</td>\n",
       "    </tr>\n",
       "    <tr>\n",
       "      <th>1</th>\n",
       "      <td>2</td>\n",
       "      <td>1</td>\n",
       "      <td>1</td>\n",
       "      <td>Cumings, Mrs. John Bradley (Florence Briggs Th...</td>\n",
       "      <td>female</td>\n",
       "      <td>38.0</td>\n",
       "      <td>1</td>\n",
       "      <td>0</td>\n",
       "      <td>PC 17599</td>\n",
       "      <td>71.2833</td>\n",
       "      <td>C85</td>\n",
       "      <td>C</td>\n",
       "    </tr>\n",
       "    <tr>\n",
       "      <th>2</th>\n",
       "      <td>3</td>\n",
       "      <td>1</td>\n",
       "      <td>3</td>\n",
       "      <td>Heikkinen, Miss. Laina</td>\n",
       "      <td>female</td>\n",
       "      <td>26.0</td>\n",
       "      <td>0</td>\n",
       "      <td>0</td>\n",
       "      <td>STON/O2. 3101282</td>\n",
       "      <td>7.9250</td>\n",
       "      <td>NaN</td>\n",
       "      <td>S</td>\n",
       "    </tr>\n",
       "    <tr>\n",
       "      <th>3</th>\n",
       "      <td>4</td>\n",
       "      <td>1</td>\n",
       "      <td>1</td>\n",
       "      <td>Futrelle, Mrs. Jacques Heath (Lily May Peel)</td>\n",
       "      <td>female</td>\n",
       "      <td>35.0</td>\n",
       "      <td>1</td>\n",
       "      <td>0</td>\n",
       "      <td>113803</td>\n",
       "      <td>53.1000</td>\n",
       "      <td>C123</td>\n",
       "      <td>S</td>\n",
       "    </tr>\n",
       "    <tr>\n",
       "      <th>4</th>\n",
       "      <td>5</td>\n",
       "      <td>0</td>\n",
       "      <td>3</td>\n",
       "      <td>Allen, Mr. William Henry</td>\n",
       "      <td>male</td>\n",
       "      <td>35.0</td>\n",
       "      <td>0</td>\n",
       "      <td>0</td>\n",
       "      <td>373450</td>\n",
       "      <td>8.0500</td>\n",
       "      <td>NaN</td>\n",
       "      <td>S</td>\n",
       "    </tr>\n",
       "  </tbody>\n",
       "</table>\n",
       "</div>"
      ],
      "text/plain": [
       "   PassengerId  Survived  Pclass  \\\n",
       "0            1         0       3   \n",
       "1            2         1       1   \n",
       "2            3         1       3   \n",
       "3            4         1       1   \n",
       "4            5         0       3   \n",
       "\n",
       "                                                Name     Sex   Age  SibSp  \\\n",
       "0                            Braund, Mr. Owen Harris    male  22.0      1   \n",
       "1  Cumings, Mrs. John Bradley (Florence Briggs Th...  female  38.0      1   \n",
       "2                             Heikkinen, Miss. Laina  female  26.0      0   \n",
       "3       Futrelle, Mrs. Jacques Heath (Lily May Peel)  female  35.0      1   \n",
       "4                           Allen, Mr. William Henry    male  35.0      0   \n",
       "\n",
       "   Parch            Ticket     Fare Cabin Embarked  \n",
       "0      0         A/5 21171   7.2500   NaN        S  \n",
       "1      0          PC 17599  71.2833   C85        C  \n",
       "2      0  STON/O2. 3101282   7.9250   NaN        S  \n",
       "3      0            113803  53.1000  C123        S  \n",
       "4      0            373450   8.0500   NaN        S  "
      ]
     },
     "execution_count": 5,
     "metadata": {},
     "output_type": "execute_result"
    }
   ],
   "source": [
    "df.head()"
   ]
  },
  {
   "cell_type": "markdown",
   "metadata": {},
   "source": [
    "## Sweetviz"
   ]
  },
  {
   "cell_type": "code",
   "execution_count": null,
   "metadata": {
    "scrolled": false
   },
   "outputs": [],
   "source": [
    "import sweetviz as sv"
   ]
  },
  {
   "cell_type": "code",
   "execution_count": 7,
   "metadata": {},
   "outputs": [
    {
     "data": {
      "application/vnd.jupyter.widget-view+json": {
       "model_id": "5f6e66647d174fa38f793d8bf0c80d46",
       "version_major": 2,
       "version_minor": 0
      },
      "text/plain": [
       "                                             |          | [  0%]   00:00 -> (? left)"
      ]
     },
     "metadata": {},
     "output_type": "display_data"
    },
    {
     "name": "stdout",
     "output_type": "stream",
     "text": [
      "Report SWEETVIZ_REPORT.html was generated! NOTEBOOK/COLAB USERS: the web browser MAY not pop up, regardless, the report IS saved in your notebook/colab files.\n"
     ]
    }
   ],
   "source": [
    "#sweetviz\n",
    "#https://github.com/fbdesignpro/sweetviz\n",
    "\n",
    "# in just 2 lines of codes\n",
    "# indicate the depedendent variable\n",
    "my_report = sv.analyze(df, target_feat='Survived')\n",
    "my_report.show_html() "
   ]
  },
  {
   "cell_type": "markdown",
   "metadata": {},
   "source": [
    "## Checking distributions and missingness of each variables"
   ]
  },
  {
   "cell_type": "markdown",
   "metadata": {},
   "source": [
    "Upon executing the 2 lines of codes, it will generate a report consisting of visualization of all variables in the dataframe.\n",
    "\n",
    "These are some cool stuff we will see this:\n",
    "\n",
    "It would show different information depending on these 3 types of variables: categorical(nominal/ordinal), continous, and textual data. They are indicated by different icons at the top left corner."
   ]
  },
  {
   "cell_type": "markdown",
   "metadata": {},
   "source": [
    "<img src='http://datageeko.com/imgs/titanic/all_distri.png'/>"
   ]
  },
  {
   "cell_type": "markdown",
   "metadata": {},
   "source": [
    "1)  We could see that it has automatically highlighted(literally) the presence of missing values, and how many of them. The highlighted color is shown in 3 different colors(yellow, green, and red) to express the severity of the missingness.\n",
    "\n",
    "2) At 1 glance, we could see the distribution of both categorical(Embarked) and continuous(Fare) variables. And at the same time, the distribution of target variable(Survived) for each bin is being overlaid as the 2nd axis. This allows you to look at the association between the groups; the proportion of values with respect to the proportion of target values being \"1\".\n",
    "\n",
    "3) For the variable that contains textual data, the bar plot is obviously not shown, but it does give you a good idea on the nature of the values.\n",
    "\n",
    "4) One problem with Sweetviz is that it doesn't highlight outliers."
   ]
  },
  {
   "cell_type": "markdown",
   "metadata": {},
   "source": [
    "You might ask, does it support target variable being a continous one. Sure! Here's how it look like if I set it the target variable to \"Fare\":"
   ]
  },
  {
   "cell_type": "markdown",
   "metadata": {},
   "source": [
    "<img src='http://datageeko.com/imgs/titanic/all_distri_conti.png'/>"
   ]
  },
  {
   "cell_type": "markdown",
   "metadata": {},
   "source": [
    "Similarly, we could see the distribution of target variable(Fare) being binned into a few groups and they were overlaid on the continous variable, and from here we could get a sense of the association between these 2 cont. variables."
   ]
  },
  {
   "cell_type": "code",
   "execution_count": 21,
   "metadata": {},
   "outputs": [
    {
     "data": {
      "application/vnd.jupyter.widget-view+json": {
       "model_id": "f07b64a807554a348bc0d0ad03b61e43",
       "version_major": 2,
       "version_minor": 0
      },
      "text/plain": [
       "                                             |          | [  0%]   00:00 -> (? left)"
      ]
     },
     "metadata": {},
     "output_type": "display_data"
    }
   ],
   "source": [
    "# check if the target can be used with cont data\n",
    "#my_report = sv.analyze(df, target_feat='Fare')"
   ]
  },
  {
   "cell_type": "code",
   "execution_count": 22,
   "metadata": {},
   "outputs": [
    {
     "name": "stdout",
     "output_type": "stream",
     "text": [
      "Report SWEETVIZ_REPORT.html was generated! NOTEBOOK/COLAB USERS: the web browser MAY not pop up, regardless, the report IS saved in your notebook/colab files.\n"
     ]
    }
   ],
   "source": [
    "#my_report.show_html() "
   ]
  },
  {
   "cell_type": "markdown",
   "metadata": {},
   "source": [
    "## Checking the associations between variables\n",
    "A key task in the EDA process is to check for associations between variables and there are different associations depending on the types of variables. If we select the variable and scroll to the right, we could see all the association between all variables done for us. \n",
    "\n",
    "### Continuous-Continuous variables & Continuous-categorical variables\n",
    "<img src='http://datageeko.com/imgs/titanic/conti_2_conti.png'/>\n",
    "\n",
    "It computes the pearson correlation between all other detected Continuous variables in this dataset. Additionally, it computes the association against all categorical variables as well. \n",
    "\n",
    "At one glance, we could see what variables have some relationships with a variable.\n",
    "\n",
    "### Categorical-Categorical variables\n",
    "<img src='http://datageeko.com/imgs/titanic/cat_2_cat.png'/>\n",
    "In this case, the Theil-U, which is a asymmetric method to measure the association between categorical variables"
   ]
  },
  {
   "cell_type": "markdown",
   "metadata": {},
   "source": [
    "### Overview of all associations\n",
    "This is even better; an eagle view of the association between all variables regardless of type:\n",
    "<img src='http://datageeko.com/imgs/titanic/sweet_viz_associ.png' width=600/>"
   ]
  },
  {
   "cell_type": "markdown",
   "metadata": {},
   "source": [
    "## D-Tale\n",
    "There's another similar library called D-Tale which complements sweetviz pretty well. Here's why."
   ]
  },
  {
   "cell_type": "code",
   "execution_count": null,
   "metadata": {
    "scrolled": false
   },
   "outputs": [],
   "source": [
    "import dtale"
   ]
  },
  {
   "cell_type": "code",
   "execution_count": 5,
   "metadata": {},
   "outputs": [],
   "source": [
    "# Assigning a reference to a running D-Tale process\n",
    "d = dtale.show(df)"
   ]
  },
  {
   "cell_type": "code",
   "execution_count": 6,
   "metadata": {},
   "outputs": [],
   "source": [
    "d.open_browser()"
   ]
  },
  {
   "cell_type": "markdown",
   "metadata": {},
   "source": [
    "<img src='http://datageeko.com/imgs/titanic/d_tale_main.png'/>\n",
    "In the main screen, it looks basically like excel, but it's actually much more than that. The magic lies when you click on the top left arrow button:\n",
    "<img src='http://datageeko.com/imgs/titanic/d_tale_top_left.png' width=500/>\n",
    "\n",
    "### Predictive Power Score(Overview of all associations)\n",
    "There are a few key useful features. If you click on the \"Predictive Power Score\", you will see an eagle eye view of all the association between all variables so that you could <b>narrow down to the most important variables</b>. This is similar to the \"associations\" screen in sweetviz, but the underlying measure is different.\n",
    "<img src='http://datageeko.com/imgs/titanic/d_tale_pps.png' width=600/>\n",
    "\n",
    "### Outliers detection\n",
    "Another useful feature is the \"<b>highlight outliers</b>\", which is something that sweetviz is missing out:\n",
    "<img src='http://datageeko.com/imgs/titanic/d_tale_outliers.png' width=600/>\n",
    "It brightly highlights the columns that contain outliers and if you mouseover the column header, it will show you the number of affected rows too.\n",
    "\n",
    "### Missingness analysis\n",
    "If you click on the <b>\"highlight missing\"</b>, it will similarly highlight the missing rows:\n",
    "<img src='http://datageeko.com/imgs/titanic/d_tale_missing.png' width=400/>\n",
    "One last useful feature that I want to show is the <b>\"missing analysis\"</b>; sometimes there's a relationship between missing variables or the order of dataset, and this diagram could give you a clue:\n",
    "<img src='http://datageeko.com/imgs/titanic/d_tale_missing2.png' width=600/>"
   ]
  },
  {
   "cell_type": "code",
   "execution_count": null,
   "metadata": {},
   "outputs": [],
   "source": []
  }
 ],
 "metadata": {
  "kernelspec": {
   "display_name": "Python 3",
   "language": "python",
   "name": "python3"
  },
  "language_info": {
   "codemirror_mode": {
    "name": "ipython",
    "version": 3
   },
   "file_extension": ".py",
   "mimetype": "text/x-python",
   "name": "python",
   "nbconvert_exporter": "python",
   "pygments_lexer": "ipython3",
   "version": "3.7.3"
  },
  "toc": {
   "base_numbering": 1,
   "nav_menu": {},
   "number_sections": true,
   "sideBar": true,
   "skip_h1_title": false,
   "title_cell": "Table of Contents",
   "title_sidebar": "Contents",
   "toc_cell": false,
   "toc_position": {},
   "toc_section_display": true,
   "toc_window_display": false
  }
 },
 "nbformat": 4,
 "nbformat_minor": 2
}
